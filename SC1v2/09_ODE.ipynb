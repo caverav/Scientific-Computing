{
 "cells": [
  {
   "cell_type": "markdown",
   "metadata": {},
   "source": [
    "<center>\n",
    "    <img src=\"http://sct.inf.utfsm.cl/wp-content/uploads/2020/04/logo_di.png\" style=\"width:60%\">\n",
    "    <h1> INF285 - Computación Científica </h1>\n",
    "    <h2> ODE </h2>\n",
    "    <h2> <a href=\"#acknowledgements\"> [S]cientific [C]omputing [T]eam </a> </h2>\n",
    "    <h2> Version: 1.20</h2>\n",
    "</center>"
   ]
  },
  {
   "cell_type": "markdown",
   "metadata": {},
   "source": [
    "## Some algorithms in this jupyter notebook have been obtained from the textbook \"Lloyd N. Trefethen, Spectral Methods in MATLAB, SIAM, Philadelphia, 2000\" and translated to Python."
   ]
  },
  {
   "cell_type": "markdown",
   "metadata": {},
   "source": [
    "<div id='toc' />\n",
    "\n",
    "## Table of Contents\n",
    "\n",
    "* [Introduction](#intro)\n",
    "* [Initial Value Problemsl](#IVP)\n",
    "    * [Three solvers](#solver)\n",
    "        * [Stability Regions](#stab)\n",
    "        * [Convergence](#conver)\n",
    "    * [High order, higher dimensions and dynamical systems](#high)\n",
    "* [Boundary Value Problems](#BVP)\n",
    "    * [Shooting Method](#MD)\n",
    "    * [Finite Differences](#DD)\n",
    "* [Acknowledgements](#acknowledgements)"
   ]
  },
  {
   "cell_type": "code",
   "execution_count": 1,
   "metadata": {},
   "outputs": [],
   "source": [
    "# %matplotlib inline\n",
    "import matplotlib.pyplot as plt\n",
    "from matplotlib import pyplot #\n",
    "import numpy as np\n",
    "from scipy.integrate import odeint\n",
    "from pylab import * #\n",
    "from numpy import linalg as LA\n",
    "from matplotlib.legend_handler import HandlerLine2D\n",
    "from scipy.linalg import toeplitz\n",
    "from scipy.optimize import root\n",
    "from ipywidgets import interact, RadioButtons, Checkbox\n",
    "import sympy as sym\n",
    "import matplotlib as mpl\n",
    "mpl.rcParams['font.size'] = 14\n",
    "mpl.rcParams['axes.labelsize'] = 20\n",
    "mpl.rcParams['xtick.labelsize'] = 14\n",
    "mpl.rcParams['ytick.labelsize'] = 14\n",
    "from mpl_toolkits.axes_grid1 import make_axes_locatable\n",
    "sym.init_printing()\n",
    "\n",
    "# Global parameter that controls the figure's size\n",
    "L = 15\n",
    "\n",
    "# Source: https://github.com/tclaudioe/Scientific-Computing/blob/master/SC5/02%20Differentiation%20matrices.ipynb\n",
    "def plot_matrices_with_values(ax,M,FLAG_test=True):\n",
    "    N=M.shape[0]\n",
    "    cmap = plt.get_cmap('GnBu')\n",
    "    im = ax.matshow(M, cmap=cmap)\n",
    "    divider = make_axes_locatable(ax)\n",
    "    cax = divider.append_axes(\"right\", size=\"5%\", pad=0.05)\n",
    "    plt.colorbar(im, cax=cax)\n",
    "    if FLAG_test:\n",
    "        for i in np.arange(0, N):\n",
    "            for j in np.arange(0, N):\n",
    "                ax.text(i, j, '{:.2f}'.format(M[i,j]), va='center', ha='center', color='r')\n",
    "    return"
   ]
  },
  {
   "cell_type": "markdown",
   "metadata": {},
   "source": [
    "<div id='intro' />\n",
    "\n",
    "# Introduction\n",
    "[Back to TOC](#toc)\n",
    "\n",
    "In this jupyter noteboon we will study several numerical methods for solving ordinary differential equations (ODEs).\n",
    "In particular we will study Initial Value Problems (IVP) and Boundary Value Problems (BVP), their principal numerical methods of numerical resolution, and their stability and convergence."
   ]
  },
  {
   "cell_type": "markdown",
   "metadata": {},
   "source": [
    "<div id='IVP' />\n",
    "\n",
    "# Initial Value Problems\n",
    "[Back to TOC](#toc)\n",
    "\n",
    "An IVP corresponds to an ordinary differential equation of the form:\n",
    "$$ \\dot{y}(t) = f(t,y(t)), \\quad t\\in]t_0,T]$$\n",
    "subject to an initial condition,\n",
    "$$ y(t_0) = y_0. $$"
   ]
  },
  {
   "cell_type": "markdown",
   "metadata": {},
   "source": [
    "<div id='solver' />\n",
    "\n",
    "# Three solvers\n",
    "[Back to TOC](#toc)\n",
    "\n",
    "Here we list a few solvers, just notice that we are only highlighting their one-time-step version:\n",
    "\n",
    "* <b>Euler's Method: </b>\n",
    "\n",
    "$$\n",
    "\\begin{align*}\n",
    "    y_{i+1} &= y_i + h\\,f(t_i,y_i)\n",
    "\\end{align*}\n",
    "$$\n",
    "\n",
    "* <b>Runge-Kutta of second order (RK2) </b>\n",
    "\n",
    "$$\n",
    "\\begin{align*}\n",
    "    k_{1} &= f(t_i,y_i) \\\\\n",
    "    y_{i+1} &= y_i + h\\,f\\left(t_i + \\dfrac{h}{2}, y_i + \\dfrac{h}{2}\\,k_1\\right)\n",
    "\\end{align*}\n",
    "$$\n",
    "\n",
    "* <b>Runge-Kutta of 4th order (RK4) </b>\n",
    "\n",
    "$$\n",
    "\\begin{align*}\n",
    "    k_{1} &= h \\, f(t_i,y_i) \\\\\n",
    "    k_{2} &= h \\, f(t_i + \\dfrac{h}{2}, y_i + \\dfrac{1}{2}k_1) \\\\\n",
    "    k_{3} &= h \\, f(t_i + \\dfrac{h}{2}, y_i + \\dfrac{1}{2}k_2) \\\\\n",
    "    k_{4} &= h \\, f(t_i + h, y + k_3) \\\\\n",
    "    y_{i+1} &= y_i + \\dfrac{1}{6}(k_1 + 2k_2 + 2k_3 + k_4) \n",
    "\\end{align*}\n",
    "$$\n",
    "\n",
    "For all this methods $h$ is the time-step it will advance the solution.\n",
    "The previous algorithms only advance one time step the solution, so it should be applied the corresponding time steps expected such that it goes from the initial time $t_0$ until the final time $T$."
   ]
  },
  {
   "cell_type": "code",
   "execution_count": 2,
   "metadata": {},
   "outputs": [],
   "source": [
    "# Forward Euler Method\n",
    "def eulerMethod_one_step(yi,ti,f,h):\n",
    "    return yi+h*f(ti,yi)\n",
    "\n",
    "# Runge-Kutta of Second order\n",
    "def RK2_one_step(yi,ti,f,h):\n",
    "    k1=f(ti,yi)\n",
    "    return yi+h*f(ti+h/2.0,yi+h/2.0*k1)\n",
    "\n",
    "# Runge-Kutta \n",
    "def RK4_one_step(yi,ti,f,h):\n",
    "    k1=f(ti,yi)\n",
    "    k2=f(ti+h/2.0,yi+(h/2.0)*k1)\n",
    "    k3=f(ti+h/2.0,yi+(h/2.0)*k2)\n",
    "    k4=f(ti+h,yi+h*k3)\n",
    "    return yi+(h/6.0)*(k1+2.0*k2+2.0*k3+k4)"
   ]
  },
  {
   "cell_type": "markdown",
   "metadata": {},
   "source": [
    "Here we define the several steps solvers.\n",
    "These are the version that will be used later on in the code."
   ]
  },
  {
   "cell_type": "code",
   "execution_count": 3,
   "metadata": {},
   "outputs": [],
   "source": [
    "# This implemantions have been upgraded respect to the ones included in the classnotes to handle\n",
    "def eulerMethod(t0,T,N,y0,f):\n",
    "    t = np.linspace(t0,T,N+1)\n",
    "    h = (T-t0)/N\n",
    "    if isinstance(y0,(int,float)):\n",
    "        y = np.zeros(N+1)\n",
    "    else:\n",
    "        y = np.zeros((N+1,len(y0)))\n",
    "    y[0] = y0\n",
    "    for i in np.arange(N):\n",
    "        y[i+1] = y[i]+f(t[i],y[i])*h\n",
    "    return t, y\n",
    "# Challenge: Make backwardEulerMethod work!\n",
    "'''def backwardEulerMethod(t0,T,N,y0,f):\n",
    "    t = np.linspace(t0,T,N+1)\n",
    "    h = (T-t0)/N\n",
    "    y = np.zeros(N+1)\n",
    "    y[0] = y0\n",
    "    for i in np.arange(N):\n",
    "        f_hat= lambda x:  x - y[i]-f(t[i+1],x)*h\n",
    "        # You must select a solver, \"find_root\" is just a generic name. The input used are the anonymous function \"f_hat\" and the initial guess y_i.\n",
    "        x = find_root(f_hat,y[i])\n",
    "        y[i+1] = x\n",
    "    return t, y'''\n",
    "def RK2(t0,T,N,y0,f):\n",
    "    t = np.linspace(t0,T,N+1)\n",
    "    h = (T-t0)/N\n",
    "    if isinstance(y0,(int,float)):\n",
    "        y = np.zeros(N+1)\n",
    "    else:\n",
    "        y = np.zeros((N+1,len(y0)))\n",
    "    y[0] = y0\n",
    "    for i in np.arange(N):\n",
    "        k1 = f(t[i],y[i])\n",
    "        y[i+1] = y[i]+f(t[i]+h/2,y[i]+k1*h/2)*h\n",
    "    return t, y\n",
    "def RK4(t0,T,N,y0,f):\n",
    "    t = np.linspace(t0,T,N+1)\n",
    "    h = (T-t0)/N\n",
    "    if isinstance(y0,(int,float)):\n",
    "        y = np.zeros(N+1)\n",
    "    else:\n",
    "        y = np.zeros((N+1,len(y0)))\n",
    "    y[0] = y0\n",
    "    for i in np.arange(N):\n",
    "        k1 = f(t[i],y[i])\n",
    "        k2 = f(t[i]+h/2,y[i]+k1*h/2)\n",
    "        k3 = f(t[i]+h/2,y[i]+k2*h/2)\n",
    "        k4 = f(t[i]+h,y[i]+k3*h)\n",
    "        y[i+1] = y[i]+(k1+2*k2+2*k3+k4)*h/6\n",
    "    return t, y"
   ]
  },
  {
   "cell_type": "markdown",
   "metadata": {},
   "source": [
    "### 1D Example\n",
    "\n",
    "In this example we will solve the logistic equation $\\dot{y}(t) = y(t)(1-y(t))$ for several inital conditions $y_0$."
   ]
  },
  {
   "cell_type": "code",
   "execution_count": 4,
   "metadata": {},
   "outputs": [
    {
     "data": {
      "application/vnd.jupyter.widget-view+json": {
       "model_id": "261dcbe5441e4f418a0461654fb9543f",
       "version_major": 2,
       "version_minor": 0
      },
      "text/plain": [
       "interactive(children=(IntSlider(value=20, description='N', min=3), FloatSlider(value=0.1, description='y0', ma…"
      ]
     },
     "metadata": {},
     "output_type": "display_data"
    },
    {
     "data": {
      "text/plain": [
       "<function __main__.change_N_and_y0_1st_Example(N=20, y0=0.1, ODEsolver=<function eulerMethod at 0x109bac700>)>"
      ]
     },
     "execution_count": 4,
     "metadata": {},
     "output_type": "execute_result"
    }
   ],
   "source": [
    "# Logistic Equation\n",
    "def f(t,y):\n",
    "    return np.array(y*(1-y))\n",
    "\n",
    "# First Example\n",
    "def change_N_and_y0_1st_Example(N=20,y0=0.1, ODEsolver=eulerMethod):\n",
    "    t0 = 0\n",
    "    T  = 4\n",
    "    t, y = ODEsolver(t0,T,N,y0,f)\n",
    "    fig = plt.figure()\n",
    "    ax  = fig.gca()\n",
    "    ax.axis([0, 4, -1, 2])\n",
    "    # Plotting stationary states for this problem.\n",
    "    t = np.linspace(t0,T,N+1)\n",
    "    plt.plot(t,t*0+1,'b-',lw=5, alpha=0.5, label='Stationary state y=1')\n",
    "    plt.plot(t,t*0,'r-',lw=5, alpha=0.5, label='Stationary state y=0')\n",
    "    # Plotting numerical solution.\n",
    "    plt.plot(t,y,'.',label=r'$y_i$')\n",
    "    \n",
    "    plt.grid(True)\n",
    "    ax.legend(loc='lower left', ncol=1, fancybox=True, shadow=True, numpoints=1, bbox_to_anchor=(1,0))\n",
    "    plt.show()\n",
    "    \n",
    "radio_button_ODEsolvers=RadioButtons(\n",
    "    options=[('Euler\\'s Method',eulerMethod),('RK2',RK2),('RK4',RK4)],\n",
    "    value=eulerMethod,\n",
    "    description='ODE solver:',\n",
    "    disabled=False\n",
    ")    \n",
    "\n",
    "interact(change_N_and_y0_1st_Example,N=(3,100,1),y0=(-0.5,2,0.1), ODEsolver=radio_button_ODEsolvers)"
   ]
  },
  {
   "cell_type": "markdown",
   "metadata": {},
   "source": [
    "Now, solve several initial conditions at the same time."
   ]
  },
  {
   "cell_type": "code",
   "execution_count": 5,
   "metadata": {},
   "outputs": [
    {
     "data": {
      "application/vnd.jupyter.widget-view+json": {
       "model_id": "2fc0977923114e419b6c80d0af32bea1",
       "version_major": 2,
       "version_minor": 0
      },
      "text/plain": [
       "interactive(children=(IntSlider(value=30, description='N', min=5), RadioButtons(description='ODE solver:', opt…"
      ]
     },
     "metadata": {},
     "output_type": "display_data"
    },
    {
     "data": {
      "text/plain": [
       "<function __main__.plot_log_eq(N=30, ODEsolver=<function eulerMethod at 0x109bac700>)>"
      ]
     },
     "execution_count": 5,
     "metadata": {},
     "output_type": "execute_result"
    }
   ],
   "source": [
    "def plot_log_eq(N=30,ODEsolver=eulerMethod):\n",
    "    t0 = 0\n",
    "    T = 4\n",
    "    fig = plt.figure(figsize=(L/2,L/2))\n",
    "    fig.clf()\n",
    "    ax = fig.gca()\n",
    "    ax.axis(\"equal\")\n",
    "    ax.grid(True)\n",
    "    ax.set_title(\"Numerical Approximations and Direction Field\")\n",
    "    ax.axis([0, 4, -2, 2])\n",
    "    \n",
    "    # Plotting the stationary states\n",
    "    t = np.linspace(t0,T,N+1)\n",
    "    plt.plot(t,t*0+1,'b-',lw=5, alpha=0.5, label='Stationary state y=1')\n",
    "    plt.plot(t,t*0,'r-',lw=5, alpha=0.5, label='Stationary state y=0')\n",
    "    plt.legend(loc='best')\n",
    "\n",
    "    # Solving over time for each method.\n",
    "    for y0 in np.linspace(-0.5,5,40): \n",
    "        t_times, y_output = ODEsolver(t0,T,N,y0,f)\n",
    "            \n",
    "        if y0>=1:\n",
    "            plt.plot(t_times,y_output,'k-',alpha=0.2)\n",
    "        else:\n",
    "            plt.plot(t_times,y_output,'k-',alpha=0.8)\n",
    "        plt.plot(t_times,y_output,'.')\n",
    "        \n",
    "    X,Y = np.meshgrid(np.arange(0,4,.2), np.arange(-2,2,.2))\n",
    "    theta = np.arctan(f(0,Y))\n",
    "    U = np.cos(theta)\n",
    "    V = np.sin(theta)\n",
    "    plt.quiver(X,Y,U,V,alpha=0.5)\n",
    "    \n",
    "interact(plot_log_eq,N=(5,100,1),ODEsolver=radio_button_ODEsolvers)"
   ]
  },
  {
   "cell_type": "markdown",
   "metadata": {},
   "source": [
    "<div id='stab' />\n",
    "\n",
    "## Stability Regions\n",
    "[Back to TOC](#toc)\n",
    "\n",
    "To perform a linear stability analysis, we will consider the following ODE $\\dot{y} = \\lambda y$, with $y(0)=1$ and $\\lambda\\in\\mathbb{C}$, for which we know its exact solution $y(t)=\\exp(\\lambda\\,t)$.\n",
    "\n",
    "Thus, solving the previos ODE with the Euler method, we have,\n",
    "$$\n",
    "\\begin{align*}\n",
    "    y_{i+1} &= y_i + \\lambda h y_i \\\\\n",
    "    y_{i+1} &= (1 + \\lambda h ) y_i \\\\\n",
    "    y_{i+1} &= (1 + \\lambda h )^{i+1} y_0 \n",
    "\\end{align*}\n",
    "$$\n",
    "\n",
    "Given that the real part of $\\lambda$ is negative and $h$ is positive, we require then that $\\left|1+\\lambda h \\right| <1$. We denote this range of values for $h$ the stability region for the Euler Method.\n",
    "\n",
    "Following a similar approach, we the the following constraints for RK2 and RK4:\n",
    "- RK2:\n",
    "$$ \\left|1+\\lambda h + \\dfrac{(\\lambda h)^2}{2!} \\right| <1 $$\n",
    "\n",
    "- RK4:\n",
    "$$ \\left| 1+\\lambda h + \\dfrac{(\\lambda h)^2}{2!} + \\dfrac{(\\lambda h)^3}{3!} + \\dfrac{(\\lambda h)^4}{4!} \\right| <1 $$"
   ]
  },
  {
   "cell_type": "code",
   "execution_count": 6,
   "metadata": {},
   "outputs": [
    {
     "data": {
      "image/png": "[encoded data removed]",
      "text/plain": [
       "<Figure size 432x288 with 1 Axes>"
      ]
     },
     "metadata": {
      "needs_background": "light"
     },
     "output_type": "display_data"
    }
   ],
   "source": [
    "def zplot2(z, ax=plt.gca(), lw=1.5, line_color='k', label=''):\n",
    "    ax.plot(np.real(z), np.imag(z), line_color, lw=lw, label=label)\n",
    "def runge_kutta_stability_regions():\n",
    "    z = np.exp(1j * np.pi * np.arange(201)/100.)\n",
    "    r = z-1\n",
    "    d = 1-1./z;\n",
    "    # Order 1\n",
    "    W1, W2, W4 = [0], [0], [0]\n",
    "    for zi in z[1:]:\n",
    "        W1.append( W1[-1]-(1.+W1[-1]-zi) )\n",
    "    for zi in z[1:]:\n",
    "        W2.append( W2[-1]-(1+W2[-1]+.5*W2[-1]**2-zi**2)/(1+W2[-1]) )\n",
    "    for zi in z[1:]:\n",
    "        num = (1+W4[-1]+.5*W4[-1]**2+W4[-1]**3/6+W4[-1]**4/24-zi**4)\n",
    "        den = (1+W4[-1]+W4[-1]**2/2+W4[-1]**3/6.)\n",
    "        W4.append( W4[-1] - num/den )\n",
    "    return W1, W2, W4\n",
    "W1,W2,W4=runge_kutta_stability_regions()"
   ]
  },
  {
   "cell_type": "code",
   "execution_count": 7,
   "metadata": {},
   "outputs": [
    {
     "data": {
      "text/plain": [
       "Text(0.5, 1.0, 'Stability Regions of some Runge-Kutta ODE solvers')"
      ]
     },
     "execution_count": 7,
     "metadata": {},
     "output_type": "execute_result"
    },
    {
     "data": {
      "image/png": "[encoded data removed]",
      "text/plain": [
       "<Figure size 540x540 with 1 Axes>"
      ]
     },
     "metadata": {
      "needs_background": "light"
     },
     "output_type": "display_data"
    }
   ],
   "source": [
    "fig = plt.figure(figsize=(L/2,L/2))\n",
    "ax=fig.gca()\n",
    "zplot2(W1,ax,line_color='r',label='Euler')\n",
    "zplot2(W2,ax,line_color='g',label='RK2')\n",
    "zplot2(W4,ax,line_color='b',label='RK4')\n",
    "ax.axis(\"equal\")\n",
    "ax.axis([-5, 2, -3.5, 3.5])\n",
    "ax.grid(\"on\")\n",
    "ax.legend(loc='best')\n",
    "ax.set_title(\"Stability Regions of some Runge-Kutta ODE solvers\")"
   ]
  },
  {
   "cell_type": "markdown",
   "metadata": {},
   "source": [
    "### So, how do we use the stability region for each method?\n",
    "\n",
    "The key point here is that we can't define $h$ a priori since we may not know the corresponding $\\lambda$, thus, in principle, we can estimate $\\lambda$ or just try the solver for different $h$."
   ]
  },
  {
   "cell_type": "code",
   "execution_count": 8,
   "metadata": {},
   "outputs": [
    {
     "data": {
      "application/vnd.jupyter.widget-view+json": {
       "model_id": "952d1084d76643379765ca757ae7264d",
       "version_major": 2,
       "version_minor": 0
      },
      "text/plain": [
       "interactive(children=(FloatSlider(value=1.2, description='y0', max=5.0, min=-2.0), IntSlider(value=20, descrip…"
      ]
     },
     "metadata": {},
     "output_type": "display_data"
    },
    {
     "data": {
      "text/plain": [
       "<function __main__.plot_log_eq_stability_region(y0=1.2, N=20, T=10, ODEsolver=<function eulerMethod at 0x109bac700>)>"
      ]
     },
     "execution_count": 8,
     "metadata": {},
     "output_type": "execute_result"
    }
   ],
   "source": [
    "def plot_log_eq_stability_region(y0=1.2, N=20, T=10, ODEsolver=eulerMethod):\n",
    "    \n",
    "    # How did w get this? Why do I need it?\n",
    "    def f_1D_prime(y):\n",
    "        return np.array(1-2*y)\n",
    "    \n",
    "    t0=0        \n",
    "    if ODEsolver==eulerMethod:\n",
    "        c1,c2,c3='b','k','k'\n",
    "    elif ODEsolver==RK2:\n",
    "        c1,c2,c3='k','b','k'\n",
    "    else:\n",
    "        c1,c2,c3='k','k','b'\n",
    "        \n",
    "    t_times, y_output = ODEsolver(t0,T,N,y0,f)\n",
    "\n",
    "    fig = plt.figure(figsize=(L,L/3))\n",
    "    ax1 = fig.add_subplot(131)\n",
    "    ax2 = fig.add_subplot(132)\n",
    "    ax3 = fig.add_subplot(133)\n",
    "\n",
    "    ax1.axis('equal')\n",
    "    ax1.grid(True)\n",
    "    ax1.set_title('Numerical Approximation')\n",
    "    ax1.axis([0, T, -0.5, 2])\n",
    "    ax1.plot(t_times,y_output,'k-')\n",
    "    ax1.plot(t_times,y_output,'b.')\n",
    "\n",
    "    # The next code is to plot in logscale unstable numerical simulations\n",
    "    h = (T-t0)/N\n",
    "    y_all=h*f_1D_prime(y_output)\n",
    "    y_pos=y_all>0\n",
    "    y_neg=np.logical_not(y_pos)\n",
    "    ax3.semilogy(t_times[y_pos],y_all[y_pos],'.r',ms=20)\n",
    "    ax3.semilogy(t_times[y_neg],-y_all[y_neg],'.b',ms=20)\n",
    "    ax3.grid(True)\n",
    "    ax3.set_title(r'$\\log10(|y_i|)$')\n",
    "\n",
    "    zplot2(W1,ax2,line_color=c1)\n",
    "    zplot2(W2,ax2,line_color=c2)\n",
    "    zplot2(W4,ax2,line_color=c3)\n",
    "    k_lambdah=h*f_1D_prime(y_output)\n",
    "    ax2.plot(np.real(k_lambdah),np.imag(k_lambdah),'.r',ms=20)\n",
    "    ax2.axis('equal')\n",
    "    ax2.axis([-5, 2, -3.5, 3.5])\n",
    "    ax2.grid(True)\n",
    "    ax2.set_title('Stability Region and $k=\\lambda\\,h$')\n",
    "\n",
    "interact(plot_log_eq_stability_region,y0=(-2,5,0.1),N=(2,100,1), T=(1,20,1), ODEsolver=radio_button_ODEsolvers)"
   ]
  },
  {
   "cell_type": "markdown",
   "metadata": {},
   "source": [
    "<div id='conver' />\n",
    "\n",
    "## Convergence\n",
    "[Back to TOC](#toc)\n",
    "\n",
    "This is very important! Let's study it!\n",
    "\n",
    "To talk about the convergence, we need to have in mind the order of each method.\n",
    "In particular, we will consider that $y(T)$ denotes the exact solution at the final time $T$ that need to solve the ODE, and $y_N$ be the approximation of the solution at the final time $T=t_N$.\n",
    "In simple words, we can say the following:\n",
    "\n",
    "- Euler's method is a first order method since $y(T)=y_N+\\mathcal{O}(h)$. This means that if $h$ is reduce by half, then the error is reduced by half.\n",
    "- RK2 is a second order method since $y(T)=y_N+\\mathcal{O}(h^2)$. This means that if $h$ is reduce by half, then the error is reduced by 4.\n",
    "- RK4 is a forth order method since $y(T)=y_N+\\mathcal{O}(h^4)$. This means that if $h$ is reduce by half, then the error is reduced by 16.\n",
    "\n",
    "To validate this, we will solve numerically the following problem,\n",
    "$$\n",
    "\\begin{align*}\n",
    "    \\dot{y}(t)&=-3\\,y(t)+6\\,t+5, \\quad t\\in]0,0.5]\\\\\n",
    "    y(0)&=3,\n",
    "\\end{align*}\n",
    "$$\n",
    "for which we know the solution $y(t)=2\\exp(-3t)+2t+1$."
   ]
  },
  {
   "cell_type": "code",
   "execution_count": 9,
   "metadata": {},
   "outputs": [],
   "source": [
    "t0 = 0\n",
    "T  = 0.5\n",
    "y0 = 3.0\n",
    "def f(t,y):\n",
    "    return np.array(-3*y+6*t+5)\n",
    "y_sol = lambda t: 2.*np.exp(-3.*t)+2.*t+1"
   ]
  },
  {
   "cell_type": "code",
   "execution_count": 10,
   "metadata": {},
   "outputs": [
    {
     "data": {
      "text/plain": [
       "Text(0, 0.5, 'Error$=|y(T)-y_{N}|$')"
      ]
     },
     "execution_count": 10,
     "metadata": {},
     "output_type": "execute_result"
    },
    {
     "data": {
      "image/png": "[encoded data removed]",
      "text/plain": [
       "<Figure size 540x540 with 1 Axes>"
      ]
     },
     "metadata": {
      "needs_background": "light"
     },
     "output_type": "display_data"
    }
   ],
   "source": [
    "fig = plt.figure(figsize=(L/2,L/2))\n",
    "fig.clf()\n",
    "ax = fig.gca()\n",
    "ax.axis('equal')\n",
    "ax.grid(True)\n",
    "ax.set_title('Convergence Analysis')\n",
    "\n",
    "N_list = np.logspace(1,5,5,dtype=int)\n",
    "for N in N_list:\n",
    "    \n",
    "    h = (T-t0)/N\n",
    "    t_times, y_output = eulerMethod(t0,T,N,y0,f)\n",
    "    plt.loglog(h,abs(y_output[-1]-y_sol(t_times[-1])),'b.',ms=20,label='Euler',alpha=.5)\n",
    "\n",
    "    t_times, y_output = RK2(t0,T,N,y0,f)\n",
    "    plt.loglog(h,abs(y_output[-1]-y_sol(t_times[-1])),'rs',ms=20,label='RK2',alpha=.5)\n",
    "\n",
    "    t_times, y_output = RK4(t0,T,N,y0,f)\n",
    "    plt.loglog(h,abs(y_output[-1]-y_sol(t_times[-1])),'gd',ms=20,label='RK4',alpha=.5)\n",
    "    if N==N_list[0]:\n",
    "        plt.legend(numpoints=1, loc='lower right')\n",
    "\n",
    "h_list=T/N_list\n",
    "\n",
    "plt.loglog(h_list,h_list,'k-')\n",
    "plt.text(10**(-6),10**(-3),r'$\\mathcal{O}(h)$', fontsize=25, horizontalalignment='center', color='b')\n",
    "plt.loglog(h_list,np.power(h_list,2.),'k-')\n",
    "plt.text(10**(-7),10**(-8),r'$\\mathcal{O}(h^2)$', fontsize=25, horizontalalignment='center', color='r')\n",
    "plt.loglog(h_list[:-2],np.power(h_list[:-2],4.),'k-')\n",
    "plt.text(10**(0),10**(-11),r'$\\mathcal{O}(h^4)$', fontsize=25, horizontalalignment='center', color='g')\n",
    "plt.xlabel(r'$h$')\n",
    "plt.ylabel(r'Error$=|y(T)-y_{N}|$')"
   ]
  },
  {
   "cell_type": "markdown",
   "metadata": {},
   "source": [
    "<div id='high' />\n",
    "\n",
    "# High order, higher dimensions and dynamical systems\n",
    "[Back to TOC](#toc)"
   ]
  },
  {
   "cell_type": "markdown",
   "metadata": {},
   "source": [
    "Why do we study higher order problems?\n",
    "\n",
    "Because they are so cool!"
   ]
  },
  {
   "cell_type": "markdown",
   "metadata": {},
   "source": [
    "### The Van der Pol oscillator"
   ]
  },
  {
   "cell_type": "markdown",
   "metadata": {},
   "source": [
    "The equation that model de Van der Pol oscillator is the following:\n",
    "$$\\ddot{y}-\\mu\\,(1-y^2)\\,\\dot{y} + y = 0,$$ \n",
    "with $y(0)=2$ and $\\dot{y}(0)=0$,\n",
    "where $\\mu$ is a scalar parameter that regulates the non-linearity of the problem and the strength of the damping.\n",
    "See https://en.wikipedia.org/wiki/Van_der_Pol_oscillator.\n",
    "\n",
    "So, since it has second derivatives respecto to time, we need to translate it to a dynamical system with the following change of variables:\n",
    "$$\n",
    "\\begin{align*}\n",
    "    y_1(t) &= y(t),\\\\\n",
    "    y_2(t) &= \\dot{y}(t).\n",
    "\\end{align*}\n",
    "$$\n",
    "Thus,\n",
    "$$\n",
    "\\begin{align*}\n",
    "    \\dot{y}_1 &= \\dot{y} = y_2,\\\\\n",
    "    \\dot{y}_2 &= \\ddot{y} = \\mu (1-y^2) \\dot{y} - y = \\mu (1-y_1^2) y_2 - y_1,\n",
    "\\end{align*}\n",
    "$$\n",
    "with $y_1(0)=2$ and $y_2(0)=0$."
   ]
  },
  {
   "cell_type": "code",
   "execution_count": 11,
   "metadata": {},
   "outputs": [],
   "source": [
    "def f_vdp(t,y,mu=10):\n",
    "    y1 = y[0]\n",
    "    y2 = y[1]\n",
    "    return np.array([y2, mu*(1-y1**2)*y2-y1])\n",
    "\n",
    "def f_vdp_eig_jacobian(t,y,mu=10):\n",
    "    J=[[0,1],[-(2*mu*y[0]*y[1]+1), mu*(1-y[0]**2)]]\n",
    "    lambs,vs= LA.eig(J)\n",
    "    return lambs"
   ]
  },
  {
   "cell_type": "code",
   "execution_count": 12,
   "metadata": {},
   "outputs": [
    {
     "data": {
      "application/vnd.jupyter.widget-view+json": {
       "model_id": "ed7617f63d994bb691ad8053b31dc00b",
       "version_major": 2,
       "version_minor": 0
      },
      "text/plain": [
       "interactive(children=(FloatSlider(value=2.0, description='y01', max=3.0, min=-3.0), FloatSlider(value=0.0, des…"
      ]
     },
     "metadata": {},
     "output_type": "display_data"
    },
    {
     "data": {
      "text/plain": [
       "<function __main__.plotting_vdp(y01=2, y02=0, N=20000, T=200, mu=10, ODEsolver=<function eulerMethod at 0x109bac700>)>"
      ]
     },
     "execution_count": 12,
     "metadata": {},
     "output_type": "execute_result"
    }
   ],
   "source": [
    "def plotting_vdp(y01=2, y02=0, N=20000, T=200, mu=10, ODEsolver=eulerMethod):\n",
    "    \n",
    "    y0=np.array([y01, y02])\n",
    "        \n",
    "    f= lambda t,y: f_vdp(t,y,mu)\n",
    "    \n",
    "    t0=0\n",
    "    \n",
    "    t_times, y_output = ODEsolver(t0,T,N,y0,f)\n",
    "\n",
    "    fig = plt.figure(figsize=(L,L/2))\n",
    "    ax1 = fig.add_subplot(121)\n",
    "    ax2 = fig.add_subplot(122)\n",
    "    \n",
    "    ax1.grid(True)\n",
    "    ax1.set_title(\"Numerical Approximation\")\n",
    "    ax1.plot(t_times,y_output[:,0],'-', label=r'$y_1(t)$', alpha=0.5)\n",
    "    ax1.set(xlabel='t')\n",
    "    ax1.plot(t_times,y_output[:,1],'-r', label=r'$y_2(t)$', alpha=0.5)\n",
    "    ax1.legend(loc='best')\n",
    "\n",
    "    ax2.grid(True)\n",
    "    ax2.set_title(\"Phase Portrait\")\n",
    "    ax2.plot(y_output[:,0],y_output[:,1],'-')\n",
    "    ax2.set(xlabel='$y=y_1$', ylabel='$\\dot{y}=y_2$')\n",
    "\n",
    "interact(plotting_vdp,y01=(-3,3,0.1), y02=(-3,3,0.1),\n",
    "         N=(10,10000,10),T=(10,200,10),\n",
    "         mu=(1,50,0.1),ODEsolver=radio_button_ODEsolvers)"
   ]
  },
  {
   "cell_type": "code",
   "execution_count": 13,
   "metadata": {},
   "outputs": [],
   "source": [
    "def plot_sol_eig_phase_portrait_2eq(t_times,y_output,f_jacobian,h,c1,c2,c3):\n",
    "    fig = plt.figure(figsize=(L,L/3))\n",
    "    ax1 = fig.add_subplot(131)\n",
    "    ax2 = fig.add_subplot(132)\n",
    "    ax3 = fig.add_subplot(133)\n",
    "    \n",
    "    ax1.grid(True)\n",
    "    ax1.set_title('Numerical Approximation')\n",
    "    ax1.plot(t_times,y_output[:,0],'-')\n",
    "    ax1.plot(t_times,y_output[:,1],'r-')\n",
    "\n",
    "    zplot2(W1,ax2,line_color=c1)\n",
    "    zplot2(W2,ax2,line_color=c2)\n",
    "    zplot2(W4,ax2,line_color=c3)\n",
    "    for i in range(1,t_times.size):\n",
    "        k_lambdah=h*f_jacobian(t_times[i],y_output[i,:])\n",
    "        ax2.plot(np.real(k_lambdah[0]),np.imag(k_lambdah[0]),'.r',ms=10,alpha=.4)\n",
    "        ax2.plot(np.real(k_lambdah[1]),np.imag(k_lambdah[1]),'sm',ms=10,alpha=.4)\n",
    "    ax2.axis('equal')\n",
    "    ax2.axis([-5, 2, -3.5, 3.5])\n",
    "    ax2.grid('on')\n",
    "    \n",
    "    ax3.grid(True)\n",
    "    ax3.set_title('Phase Portrait')\n",
    "    ax3.plot(y_output[:,0],y_output[:,1],'-')\n",
    "    ax3.set(xlabel='$y_1$', ylabel='$y_2$')"
   ]
  },
  {
   "cell_type": "markdown",
   "metadata": {},
   "source": [
    "### What about the stability region for dynamical systems?\n",
    "\n",
    "In this case we need to compute the eigenvalues of the Jacobian matrix of $\\mathbf{F}(\\mathbf{y})$.\n",
    "So the eigenvalues $\\lambda_i$ multiplied by $h$ have to be inside of the stability region of the real part of $\\lambda_i$ is negative, for $i\\in\\{1,2,\\dots,\\text{Dimension of Dynamical System}\\}$."
   ]
  },
  {
   "cell_type": "code",
   "execution_count": 14,
   "metadata": {
    "scrolled": false
   },
   "outputs": [
    {
     "data": {
      "application/vnd.jupyter.widget-view+json": {
       "model_id": "11facc3b495f44969197592bb4fbbbb4",
       "version_major": 2,
       "version_minor": 0
      },
      "text/plain": [
       "interactive(children=(FloatSlider(value=2.0, description='y01', max=3.0, min=-3.0), FloatSlider(value=-3.0, de…"
      ]
     },
     "metadata": {},
     "output_type": "display_data"
    },
    {
     "data": {
      "text/plain": [
       "<function __main__.plotting_vpd_as_system(y01=2, y02=0, N=1000, T=40, mu=10, ODEsolver=<function eulerMethod at 0x109bac700>)>"
      ]
     },
     "execution_count": 14,
     "metadata": {},
     "output_type": "execute_result"
    }
   ],
   "source": [
    "def plotting_vpd_as_system(y01=2, y02=0, N=1000, T=40, mu=10, ODEsolver=eulerMethod):\n",
    "    \n",
    "    y0=np.array([y01, y02])\n",
    "    \n",
    "    f= lambda t,y: f_vdp(t,y,mu)\n",
    "    \n",
    "    t0 = 0\n",
    "\n",
    "    t_times, y_output = ODEsolver(t0,T,N,y0,f)\n",
    "    \n",
    "    h = (T-t0)/N\n",
    "    \n",
    "    if ODEsolver==eulerMethod:\n",
    "        c1,c2,c3='b','k','k'\n",
    "    elif ODEsolver==RK2:\n",
    "        c1,c2,c3='k','b','k'\n",
    "    else:\n",
    "        c1,c2,c3='k','k','b'\n",
    "    \n",
    "    plot_sol_eig_phase_portrait_2eq(t_times,y_output,f_vdp_eig_jacobian,h,c1,c2,c3)\n",
    "\n",
    "interact(plotting_vpd_as_system, y01=(-3,3,0.1), y02=(-3,-3,0.1),\n",
    "         N=(10,4000,10),T=(10,200,10),\n",
    "         mu=(1,50,0.1),ODEsolver=radio_button_ODEsolvers)"
   ]
  },
  {
   "cell_type": "markdown",
   "metadata": {},
   "source": [
    "### Lotka-Volterra model"
   ]
  },
  {
   "cell_type": "markdown",
   "metadata": {},
   "source": [
    "This instance models the evolution of the average population of two species living in a closed system.\n",
    "The species number 1 is considered that feeds itself with an unlimited amount of food and the species number 2 feeds itself with species number 1.\n",
    "We will denote the average population of species number 1 as $y_1(t)$ and the average population of species number 2 as $y_2(t)$.\n",
    "\n",
    "So, if we consider that there is no presence of species number 2 in the system, then species number 1 will grow exponentially, this means $\\dot{y}_1=y_1$.\n",
    "On the other case, if no presence of species number 1 in the system, then species number 2 will decay exponentially as follows $\\dot{y}_2=-y_2$.\n",
    "However, we are not interested in the extreme cases, how can we understand the dynamics when there exists these two species together interacting?\n",
    "This is modeled by the Lotka-Volterra dynamical system:\n",
    "$$\n",
    "\\begin{align*}\n",
    "    \\dot{y}_1(t)&=(1-y_2(t)/\\mu_2)\\,y_1(t),\\\\\n",
    "    \\dot{y}_2(t)&=-(1-y_1(t)/\\mu_1)\\,y_2(t),\\\\\n",
    "    y_1(0)&=400,\\\\\n",
    "    y_2(0)&=100,\n",
    "\\end{align*}\n",
    "$$\n",
    "where $\\mu_1$ and $\\mu_2$ are normalization constants."
   ]
  },
  {
   "cell_type": "code",
   "execution_count": 15,
   "metadata": {},
   "outputs": [],
   "source": [
    "mu1=300\n",
    "mu2=200\n",
    "def f_predprey(t,y,mu1=mu1,mu2=mu2):\n",
    "    y1 = y[0]\n",
    "    y2 = y[1]\n",
    "    return np.array([(1-y2/mu2)*y1, -(1-y1/mu1)*y2])\n",
    "\n",
    "def f_predprey_jacobian(t,y,mu1=mu1,mu2=mu2):\n",
    "    J=[[1-y[1]/mu2,-y[0]/mu2],[y[1]/mu1, -(1-y[0]/mu1)]]\n",
    "    lambs,vs= LA.eig(J)\n",
    "    return lambs"
   ]
  },
  {
   "cell_type": "code",
   "execution_count": 16,
   "metadata": {
    "scrolled": false
   },
   "outputs": [
    {
     "data": {
      "application/vnd.jupyter.widget-view+json": {
       "model_id": "105b834914f44b8fa5613f7410202340",
       "version_major": 2,
       "version_minor": 0
      },
      "text/plain": [
       "interactive(children=(IntSlider(value=70, description='y01', max=1000, step=10), IntSlider(value=100, descript…"
      ]
     },
     "metadata": {},
     "output_type": "display_data"
    },
    {
     "data": {
      "text/plain": [
       "<function __main__.plotting_predprey(y01=70, y02=100, N=1000, T=30, ODEsolver=<function eulerMethod at 0x109bac700>)>"
      ]
     },
     "execution_count": 16,
     "metadata": {},
     "output_type": "execute_result"
    }
   ],
   "source": [
    "def plotting_predprey(y01=70, y02=100, N=1000, T=30, ODEsolver=eulerMethod):\n",
    "    y0=np.array([y01, y02])\n",
    "    f= lambda t,y: f_predprey(t,y)\n",
    "    t0 = 0\n",
    "    t_times, y_output = ODEsolver(t0,T,N,y0,f)\n",
    "    h = (T-t0)/N\n",
    "    \n",
    "    if ODEsolver==eulerMethod:\n",
    "        c1,c2,c3='b','k','k'\n",
    "    elif ODEsolver==RK2:\n",
    "        c1,c2,c3='k','b','k'\n",
    "    else:\n",
    "        c1,c2,c3='k','k','b'\n",
    "    \n",
    "    plot_sol_eig_phase_portrait_2eq(t_times,y_output,f_predprey_jacobian,h,c1,c2,c3)\n",
    "\n",
    "interact(plotting_predprey,y01=(0,1000,10),y02=(0,1000,10),\n",
    "         N=(10,1000,10),T=(10,200,10),\n",
    "         ODEsolver=radio_button_ODEsolvers)"
   ]
  },
  {
   "cell_type": "markdown",
   "metadata": {},
   "source": [
    "## Now solving the following equation\n",
    "$$\n",
    "\\begin{align*}\n",
    "    \\dot{y}_1(t) &= y_2(t),\\\\\n",
    "    \\dot{y}_2(t) &= -y_1(t),\n",
    "\\end{align*}\n",
    "$$\n",
    "with $y_1(0)=1$ and $y_2(0)=0$.\n",
    "\n",
    "What functions are these? Do you recognize them?"
   ]
  },
  {
   "cell_type": "code",
   "execution_count": 17,
   "metadata": {
    "scrolled": false
   },
   "outputs": [
    {
     "data": {
      "application/vnd.jupyter.widget-view+json": {
       "model_id": "6df22944e0f745359ca397d9bd18c2bc",
       "version_major": 2,
       "version_minor": 0
      },
      "text/plain": [
       "interactive(children=(FloatSlider(value=1.0, description='y01', max=2.0, min=-2.0), FloatSlider(value=0.0, des…"
      ]
     },
     "metadata": {},
     "output_type": "display_data"
    },
    {
     "data": {
      "text/plain": [
       "<function __main__.plotting_f_trig(y01=1, y02=0, N=100, T=6.283185307179586, ODEsolver=<function eulerMethod at 0x109bac700>)>"
      ]
     },
     "execution_count": 17,
     "metadata": {},
     "output_type": "execute_result"
    }
   ],
   "source": [
    "def f_trig(t,y):\n",
    "    y1 = y[0]\n",
    "    y2 = y[1]\n",
    "    return np.array([y2, -y1])\n",
    "\n",
    "def f_trig_jacobian(t,y):\n",
    "    return np.array([0.+1.j, 0.-1.j])\n",
    "\n",
    "def plotting_f_trig(y01=1, y02=0, N=100, T=2*np.pi, ODEsolver=eulerMethod):\n",
    "\n",
    "    y0=np.array([y01, y02])\n",
    "    f= lambda t,y: f_trig(t,y)\n",
    "    t0 = 0\n",
    "    t_times, y_output = ODEsolver(t0,T,N,y0,f)\n",
    "    h = (T-t0)/N\n",
    "    \n",
    "    if ODEsolver==eulerMethod:\n",
    "        c1,c2,c3='b','k','k'\n",
    "    elif ODEsolver==RK2:\n",
    "        c1,c2,c3='k','b','k'\n",
    "    else:\n",
    "        c1,c2,c3='k','k','b'\n",
    "    plot_sol_eig_phase_portrait_2eq(t_times,y_output,f_trig_jacobian,h,c1,c2,c3)\n",
    "\n",
    "interact(plotting_f_trig,y01=(-2,2,0.1),y02=(-2,2,0.1),\n",
    "         N=(10,1000,10),T=(1,10*np.pi,0.1),\n",
    "         ODEsolver=radio_button_ODEsolvers)"
   ]
  },
  {
   "cell_type": "markdown",
   "metadata": {},
   "source": [
    "## Last but not least, solving:\n",
    "$$\n",
    "\\begin{align*}\n",
    "    \\dot{y}(t) &= \\lambda\\,y(t),\\\\\n",
    "\\end{align*}\n",
    "$$\n",
    "with $y(0)=1$.\n",
    "\n",
    "What function is this? Do you recognize it?"
   ]
  },
  {
   "cell_type": "code",
   "execution_count": 18,
   "metadata": {},
   "outputs": [
    {
     "data": {
      "application/vnd.jupyter.widget-view+json": {
       "model_id": "daa2ccf3aa1347fdbd3c8835b0df4628",
       "version_major": 2,
       "version_minor": 0
      },
      "text/plain": [
       "interactive(children=(FloatSlider(value=1.0, description='y0', max=2.0, min=-2.0), IntSlider(value=100, descri…"
      ]
     },
     "metadata": {},
     "output_type": "display_data"
    },
    {
     "data": {
      "text/plain": [
       "<function __main__.plotting_f_exp(y0=1, N=100, T=10, lam=-1, ODEsolver=<function eulerMethod at 0x109bac700>)>"
      ]
     },
     "execution_count": 18,
     "metadata": {},
     "output_type": "execute_result"
    }
   ],
   "source": [
    "def f_exp(t,y,lam=-1):\n",
    "    return lam*y\n",
    "def f_exp_jac(t,y,lam=-1):\n",
    "    return lam\n",
    "\n",
    "def plotting_f_exp(y0=1, N=100, T=10, lam=-1, ODEsolver=eulerMethod):\n",
    "    \n",
    "    f= lambda t,y: f_exp(t,y, lam)\n",
    "    t0 = 0\n",
    "    t_times, y_output = ODEsolver(t0,T,N,y0,f)\n",
    "    h = (T-t0)/N\n",
    "    \n",
    "    if ODEsolver==eulerMethod:\n",
    "        c1,c2,c3='b','k','k'\n",
    "    elif ODEsolver==RK2:\n",
    "        c1,c2,c3='k','b','k'\n",
    "    else:\n",
    "        c1,c2,c3='k','k','b'\n",
    "    \n",
    "    # Plotting\n",
    "    \n",
    "    fig = plt.figure(figsize=(L*2/3,L/3))\n",
    "    ax1 = fig.add_subplot(121)\n",
    "    ax2 = fig.add_subplot(122)\n",
    "    \n",
    "    ax1.grid(True)\n",
    "    ax1.set_title('Numerical Approximation')\n",
    "    ax1.plot(t_times,y_output[:],'.b')\n",
    "    ax1.plot(t_times,y_output[:],'k-',alpha=0.5)\n",
    "    #ax1.axis([0, T, -2, 2])\n",
    "\n",
    "    zplot2(W1,ax2,line_color=c1)\n",
    "    zplot2(W2,ax2,line_color=c2)\n",
    "    zplot2(W4,ax2,line_color=c3)\n",
    "    for i in range(1,t_times.size):\n",
    "        k_lambdah=h*f_exp_jac(t_times[i],y_output[i],lam)\n",
    "        ax2.plot(np.real(k_lambdah),np.imag(k_lambdah),'.r',ms=10,alpha=.4)\n",
    "    ax2.axis('equal')\n",
    "    ax2.axis([-5, 2, -3.5, 3.5])\n",
    "    ax2.grid('on')\n",
    "\n",
    "interact(plotting_f_exp,y0=(-2,2,0.1),\n",
    "         N=(5,1000,10),T=(1,20,1), lam=(-2,2,0.1),\n",
    "         ODEsolver=radio_button_ODEsolvers)"
   ]
  },
  {
   "cell_type": "markdown",
   "metadata": {},
   "source": [
    "<div id='BVP' />\n",
    "\n",
    "# Boundary Value Problems\n",
    "[Back to TOC](#toc)"
   ]
  },
  {
   "cell_type": "markdown",
   "metadata": {},
   "source": [
    "An instance of a BVP corresponds to a ordinary differential equation of the following form:\n",
    "$$ y''(x) = f(x,y(x),y'(x)),$$\n",
    "with the following boundary conditions,\n",
    "$$\n",
    "\\begin{align*}\n",
    "    y(a) &= y_a,\\\\\n",
    "    y(b) &= y_b.\n",
    "\\end{align*}\n",
    "$$\n",
    "To undertand them better, let's find a numerical approximation of the following problem:\n",
    "$$\n",
    "\\begin{align*}\n",
    "    y''(x) &= 4\\,y(x),\\\\\n",
    "    y(0)   &= y_0,\\\\\n",
    "    y(1)   &= y_n.\n",
    "\\end{align*}\n",
    "$$"
   ]
  },
  {
   "cell_type": "markdown",
   "metadata": {},
   "source": [
    "<div id='MD' />\n",
    "\n",
    "## Shooting Method\n",
    "[Back to TOC](#toc)\n",
    "\n",
    "This method takes advantage that we already know how to handle IVP and uses that knowledge to find a numerical approximation of an BVP.\n",
    "The main steps are the followings:\n",
    "- We have a BVP on the form: \n",
    "    $$\n",
    "    \\begin{align*}\n",
    "        y''(x) &= f(x,y(x),y'(x)),\\\\\n",
    "        y(a)   &= y_a,\\\\\n",
    "        y(b)   &= y_b.\n",
    "    \\end{align*}\n",
    "    $$\n",
    "- Let's considerer the following steps to translate the BVP to an IVP:\n",
    "    1. $x \\rightarrow t$, this implies that $t_0=a$ and $T=b$.\n",
    "    2. $$\\begin{align*}\n",
    "            \\ddot{y}(t)   &= f(t,y(t),\\dot{y}(t)),\\\\\n",
    "            y(t_0)        &= y_a,\\\\ \n",
    "            \\dot{y}(t_0)  &= \\alpha.\n",
    "       \\end{align*}\n",
    "       $$\n",
    "       **Warning**: We actually don't know $\\alpha$ but we do need it since we treating the previous problem as a IVP. What we do have is $y(b)=y(T)=y_b$.\n",
    "    3. So, since we don't have $\\alpha$, we need to find it by solving the following 1D root: $F(\\alpha) = y_N^{(\\alpha)} - y_b$, where $y_N^{(\\alpha)}$ denotes the IVP approximation at time $t=T$ considering $\\alpha$ for the initial condition of $\\dot{y}(t_0)$.\n",
    "    4. After we find the root for $F(\\alpha)$, we can say we have found a numerical approximation of $y(x)$ since we have a numerical approximation that satisfies the ODE and also the boundary condition defined on the interval $[a,b]$. This is wonderful!\n",
    "\n",
    "Notice however that the function $F(\\alpha)$ is the output of the execution of an algorithm, so we only expect it to be continuous.\n",
    "For instance it will be interesting to apply the Bisection method here!\n",
    "The main disadvantage of this algorithm is that we need to solve several IVPs to actually find the right one, the good news is that we are re-using previous knowledge in a new type of problems!"
   ]
  },
  {
   "cell_type": "code",
   "execution_count": 27,
   "metadata": {},
   "outputs": [],
   "source": [
    "# BVP: y''(x)= 4*y(x), y(0)=1, and y(1)=3, x \\in [0,1].\n",
    "# Dynamical system:\n",
    "# y1=y  -> y1'=y'=y2\n",
    "# y2=y' -> y2'=y''=4*y=4*y1.\n",
    "# y1(0) = 1, (and we know y(1)=3)\n",
    "# y1(1) = 3.\n",
    "# y2(0) = alpha, we don't know it.\n",
    "def f(t,y):\n",
    "    return np.array([y[1],4*y[0]])"
   ]
  },
  {
   "cell_type": "code",
   "execution_count": 20,
   "metadata": {
    "scrolled": false
   },
   "outputs": [
    {
     "data": {
      "application/vnd.jupyter.widget-view+json": {
       "model_id": "39ef4addcf3f45b6a8e42e4174854951",
       "version_major": 2,
       "version_minor": 0
      },
      "text/plain": [
       "interactive(children=(FloatSlider(value=-1.0, description='alpha', max=2.0, min=-2.0), IntSlider(value=50, des…"
      ]
     },
     "metadata": {},
     "output_type": "display_data"
    },
    {
     "data": {
      "text/plain": [
       "<function __main__.shooting_method_101(alpha=-1, N=50, ya=1, yb=3, ODEsolver=<function eulerMethod at 0x109bac700>)>"
      ]
     },
     "execution_count": 20,
     "metadata": {},
     "output_type": "execute_result"
    }
   ],
   "source": [
    "def shooting_method_101(alpha=-1, N=50, ya=1, yb=3, ODEsolver=eulerMethod):\n",
    "    t0 = 0\n",
    "    T  = 1\n",
    "    y0 = np.array([ya,alpha])\n",
    "    t_times, y_output = ODEsolver(t0,T,N,y0,f)\n",
    "    h = (T-t0)/N\n",
    "    \n",
    "    fig = plt.figure(figsize=(L/2,L/2))\n",
    "    ax = fig.gca()\n",
    "    plt.grid(True)\n",
    "    plt.title(\"Numerical Approximation\")\n",
    "    plt.plot(t_times,y_output[:,0],'r.',ms=12,alpha=0.5,label=r'$y1_i$')\n",
    "    plt.plot(t_times,y_output[:,1],'m.',ms=12,alpha=0.5,label=r'$y2_i$')\n",
    "    \n",
    "    plt.plot(0,1,'*k',ms=16,label='Left BC')\n",
    "    plt.plot(1,3,'*g',ms=16,label='Right BC')\n",
    "    plt.plot(0,alpha,'darkorange',ms=16,label=r'$\\alpha$', marker=r'$\\alpha$')\n",
    "    \n",
    "    plt.legend(loc='best')\n",
    "\n",
    "interact(shooting_method_101, alpha=(-2,2,0.1),\n",
    "         N=(5,100,1), ya=(-5,5,0.1), yb=(-5,5,0.1),\n",
    "         ODEsolver=radio_button_ODEsolvers)"
   ]
  },
  {
   "cell_type": "markdown",
   "metadata": {},
   "source": [
    "### Now, let's find $\\alpha$ automatically"
   ]
  },
  {
   "cell_type": "code",
   "execution_count": 21,
   "metadata": {},
   "outputs": [],
   "source": [
    "y0 = np.array([1, 1.1])"
   ]
  },
  {
   "cell_type": "code",
   "execution_count": 22,
   "metadata": {},
   "outputs": [],
   "source": [
    "def F(alpha, ya=1, yb=3, N=100, ODEsolver=eulerMethod):\n",
    "    t0 = 0\n",
    "    T  = 1\n",
    "    y0 = np.zeros(2)\n",
    "    y0[0] = ya\n",
    "    y0[1] = alpha\n",
    "    t_times, y_output = ODEsolver(t0,T,N,y0,f)\n",
    "    # Notice that we don use absolute value for the error since\n",
    "    # we want to look at this problem as a rootfinding problem\n",
    "    # and not as a minimization, that could be another approach.\n",
    "    return y_output[-1,0]-yb "
   ]
  },
  {
   "cell_type": "code",
   "execution_count": 23,
   "metadata": {},
   "outputs": [
    {
     "name": "stdout",
     "output_type": "stream",
     "text": [
      "-0.4203060487266357\n"
     ]
    },
    {
     "data": {
      "image/png": "[encoded data removed]",
      "text/plain": [
       "<Figure size 540x540 with 1 Axes>"
      ]
     },
     "metadata": {
      "needs_background": "light"
     },
     "output_type": "display_data"
    }
   ],
   "source": [
    "t0 = 0\n",
    "T  = 1\n",
    "ya = 1\n",
    "yb = 3\n",
    "N  = 100\n",
    "ODEsolver = RK4\n",
    "\n",
    "F_root = lambda alpha: F(alpha, ya=ya, yb=yb, N=N, ODEsolver=ODEsolver)\n",
    "alpha = root(F_root, 0.).x[0]\n",
    "\n",
    "y0 = np.array([ya,alpha])\n",
    "t_times, y_output = ODEsolver(t0,T,N,y0,f)\n",
    "\n",
    "fig = plt.figure(figsize=(L/2,L/2))\n",
    "plt.grid(True)\n",
    "plt.title(\"Numerical Approximation\")\n",
    "plt.plot(t_times,y_output[:,0],'r.',ms=12,alpha=0.5,label=r'$y1_i$')\n",
    "plt.plot(t_times,y_output[:,1],'m.',ms=12,alpha=0.5,label=r'$y2_i$')\n",
    "plt.plot(0,ya,'*k',ms=16,label='Left BC')\n",
    "plt.plot(1,yb,'*g',ms=16,label='Right BC')\n",
    "plt.plot(0,alpha,'darkorange',ms=16,label=r'$\\alpha$', marker=r'$\\alpha$')\n",
    "plt.legend(loc='best')\n",
    "print(alpha)"
   ]
  },
  {
   "cell_type": "markdown",
   "metadata": {},
   "source": [
    "### Let's take a look to $F(\\alpha, \\dots)$, find the 'BUG'!"
   ]
  },
  {
   "cell_type": "code",
   "execution_count": 24,
   "metadata": {},
   "outputs": [
    {
     "data": {
      "image/png": "[encoded data removed]",
      "text/plain": [
       "<Figure size 720x720 with 1 Axes>"
      ]
     },
     "metadata": {
      "needs_background": "light"
     },
     "output_type": "display_data"
    }
   ],
   "source": [
    "ODEsolver = eulerMethod\n",
    "\n",
    "several_alphas = np.linspace(-1,0,100)\n",
    "Fv = np.vectorize(lambda x: F(x,ODEsolver=ODEsolver))\n",
    "F_alphas = Fv(several_alphas)\n",
    "\n",
    "plt.figure(figsize=(10,10))\n",
    "plt.plot(several_alphas,F_alphas,'.b',label=r'$F(\\alpha)$')\n",
    "plt.plot(several_alphas,F_alphas*0,'-g',alpha=0.8,linewidth=3,label=r'$0$')\n",
    "plt.grid(True)\n",
    "plt.plot(alpha,F(alpha,ODEsolver=ODEsolver),'.r',ms=20,label=r'Root: $\\alpha$='+str(alpha))\n",
    "plt.xlabel(r'$\\alpha$')\n",
    "plt.ylabel(r'$F(\\alpha)=y_N^{(\\alpha)} - y_b$')\n",
    "plt.legend(loc='best')\n",
    "plt.show()"
   ]
  },
  {
   "cell_type": "markdown",
   "metadata": {},
   "source": [
    "<div id='DD' />\n",
    "\n",
    "## Finite Differences\n",
    "[Back to TOC](#toc)\n",
    "\n",
    "This method opens a new door of algorithms for solving BVP.\n",
    "The main idea is to approximate each derivative of $y(x)$ by a finite difference approximation and then solve the linear or possible non-linear system of equations associated.\n",
    "\n",
    "Here we list a few finite difference approximation for the first and one for the second derivative:\n",
    "\n",
    "- Forward Difference:\n",
    "$$ y'(x) = \\dfrac{y(x+h) - y(x)}{h} + O(h)$$\n",
    "\n",
    "- Backward Difference:\n",
    "$$ y'(x) = \\dfrac{y(x) - y(x-h)}{h} + O(h)$$\n",
    "\n",
    "- Central Difference:\n",
    "$$ y'(x) = \\dfrac{y(x+h) - y(x-h)}{2h} + O(h^2)$$\n",
    "\n",
    "And for the second derivative:\n",
    "$$\n",
    "\\begin{align*}\n",
    "y''(x) &= \\dfrac{\\text{Forward Difference } - \\text{ Backward Difference}}{h} + O(h^2) \\\\\n",
    "y''(x) &= \\dfrac{\\dfrac{y(x+h) - y(x)}{h} - \\dfrac{y(x) - y(x-h)}{h}}{h} + O(h^2) \\\\\n",
    "y''(x) &= \\dfrac{y(x+h) - 2\\,y(x) + y(x-h)}{h^2} + O(h^2) \\\\\n",
    "\\end{align*}\n",
    "$$\n",
    "\n",
    "Notice that in all the previous cases we first need to define the function on a grid, it does not have to be regular, but for simplicity we will consider it regular.\n",
    "Recall that the BVP will be defined on $[a,b]$, thus the regular grid will be defined as follows: $x_i=i\\,h$, where $h=\\dfrac{b-a}{N}$.\n",
    "This also help us to define the approximation of the function over the grid, this means the following,\n",
    "- Traditionally we say $y(x)$ is the function defined on $x\\in[a,b]$.\n",
    "- Now, we will have a grid function $y_i\\approx y(x_i)$ for $i\\in\\{0,1,2,\\dots,N\\}$. In particular we would like to point out that the vector $\\mathbf{y}$ will be the representation of all the scalar values $y_i$ and the vector $\\mathbf{x}$ will store the grid values $x_i$. Thus in this discrete world $\\mathbf{y}$ will apporximate the continuous function $y(x)$ on $[a,b]$.\n",
    "\n",
    "On the other hand, the finite difference operator over the finite grid will be then defined as follows:\n",
    "- Forward Difference: $ y'(x_i)=\\dfrac{y_{i+1} - y_i}{h} + O(h) $.\n",
    "- Backward Difference: $ y'(x_i) = \\dfrac{y_i - y_{i-1}}{h} + O(h) $.\n",
    "- Central Difference: $ y'(x_i) = \\dfrac{y_{i+1} - y_{i-1}}{2h} + O(h^2)$.\n",
    "- Second derivative finite difference: $y''(x_i) = \\dfrac{y_{i+1} - 2\\,y_i + y_{i-1}}{h^2} + O(h^2)$.\n",
    "\n",
    "Now, let's apply them!"
   ]
  },
  {
   "cell_type": "code",
   "execution_count": 28,
   "metadata": {},
   "outputs": [
    {
     "data": {
      "application/vnd.jupyter.widget-view+json": {
       "model_id": "60c0ab24ed88435da7004822bf6457d9",
       "version_major": 2,
       "version_minor": 0
      },
      "text/plain": [
       "interactive(children=(IntSlider(value=4, description='M', max=25, min=3), FloatSlider(value=1.0, description='…"
      ]
     },
     "metadata": {},
     "output_type": "display_data"
    },
    {
     "data": {
      "text/plain": [
       "<function __main__.plot_solution_finite_difference_eq(M=4, ya=1, yb=3, FLAG_test=True)>"
      ]
     },
     "execution_count": 28,
     "metadata": {},
     "output_type": "execute_result"
    }
   ],
   "source": [
    "def solve_finite_difference_eq(M=4,ya=1,yb=3):\n",
    "    # Spatial discretization, \n",
    "    # 'M' represents the number of intervals to be used.\n",
    "    h=(1.-0.)/M\n",
    "    \n",
    "    # Building Finite Difference Discretization\n",
    "    deltas=-(2.+4.*(h**2.))\n",
    "    A=toeplitz(np.append(np.array([deltas, 1.]), np.zeros(M-3)))\n",
    "    # Building RHS\n",
    "    b=np.append(-ya, np.zeros(M-3))\n",
    "    b=np.append(b,-yb)\n",
    "    # Solving the linear system of equations\n",
    "    y=np.linalg.solve(A, b)\n",
    "    # Adding back the boundary conditions into the solution\n",
    "    y=np.append([ya], y)\n",
    "    y=np.append(y,[yb])\n",
    "    x_FD = np.linspace(0,1,M+1) # xi, i.e. the spatial grid.\n",
    "    y_FD = y                    # yi, i.e. the approximation of y(x_i).\n",
    "    return x_FD, y_FD, A, b\n",
    "\n",
    "def plot_solution_finite_difference_eq(M=4,ya=1,yb=3, FLAG_test=True):\n",
    "    \n",
    "    # Solving with Finite Difference\n",
    "    x_FD, y_FD, A, b = solve_finite_difference_eq(M,ya,yb)\n",
    "    \n",
    "    # Plotting\n",
    "    fig = plt.figure(figsize=(L,L/2))\n",
    "    ax1 = fig.add_subplot(121)\n",
    "    ax2 = fig.add_subplot(122)\n",
    "    \n",
    "    # Plotting the discrete solution\n",
    "    ax1.grid(True)\n",
    "    ax1.set_title(\"FD\")\n",
    "    ax1.plot(x_FD,y_FD,'.',ms=20)\n",
    "    ax1.grid(\"on\")\n",
    "    \n",
    "    # Plotting the pattern and coefficients of the tri-diagonal matrix\n",
    "    plot_matrices_with_values(ax2,A,FLAG_test)\n",
    "    \n",
    "interact(plot_solution_finite_difference_eq, M=(3,25,1),\n",
    "         ya=(-5,5,0.1), yb=(-5,5,0.1), \n",
    "         FLAG_test=Checkbox(value=True, description='Show numerical values'))"
   ]
  },
  {
   "cell_type": "markdown",
   "metadata": {},
   "source": [
    "## Comparing the Shooting Method with Finite Differences"
   ]
  },
  {
   "cell_type": "code",
   "execution_count": 29,
   "metadata": {},
   "outputs": [
    {
     "data": {
      "application/vnd.jupyter.widget-view+json": {
       "model_id": "6941d55df94c4c3faf05d2412b51956a",
       "version_major": 2,
       "version_minor": 0
      },
      "text/plain": [
       "interactive(children=(FloatSlider(value=-0.420306048726636, description='alpha', max=2.0, min=-2.0, step=0.01)…"
      ]
     },
     "metadata": {},
     "output_type": "display_data"
    },
    {
     "data": {
      "text/plain": [
       "<function __main__.shooting_method_vs_FD(alpha=-0.420306048726636, N=50, ya=1, yb=3, ODEsolver=<function eulerMethod at 0x109bac700>, M=4)>"
      ]
     },
     "execution_count": 29,
     "metadata": {},
     "output_type": "execute_result"
    }
   ],
   "source": [
    "def shooting_method_vs_FD(alpha=-0.420306048726636, N=50, ya=1, yb=3, ODEsolver=eulerMethod, M=4):\n",
    "    # Shooting Method\n",
    "    t0 = 0\n",
    "    T  = 1\n",
    "    y0 = np.array([ya,alpha])\n",
    "    t_times, y_output = ODEsolver(t0,T,N,y0,f)\n",
    "    h = (T-t0)/N\n",
    "    \n",
    "    # Finite Differences\n",
    "    x_FD, y_FD, A, b = solve_finite_difference_eq(M,ya,yb)\n",
    "    \n",
    "    \n",
    "    fig = plt.figure(figsize=(L/2,L/2))\n",
    "    ax = fig.gca()\n",
    "    plt.grid(True)\n",
    "    plt.title(\"Numerical Approximations\")\n",
    "    plt.plot(t_times,y_output[:,0],'r.',ms=12,alpha=0.5,label=r'SM: $y1_i$')\n",
    "    plt.plot(t_times,y_output[:,1],'m.',ms=12,alpha=0.5,label=r'SM: $y2_i$')\n",
    "    \n",
    "    plt.plot(x_FD,y_FD,'b.',ms=20,label=r'FD: $y_i$')\n",
    "    \n",
    "    plt.plot(0,1,'*k',ms=16,label='Left BC')\n",
    "    plt.plot(1,3,'*g',ms=16,label='Right BC')\n",
    "    plt.plot(0,alpha,'r',ms=16,label=r'$\\alpha$', marker=r'$\\alpha$')\n",
    "    \n",
    "    plt.legend(loc='best')\n",
    "\n",
    "interact(shooting_method_vs_FD, alpha=(-2,2,0.01),\n",
    "         N=(5,100,1), ya=(-5,5,0.1), yb=(-5,5,0.1),\n",
    "         ODEsolver=radio_button_ODEsolvers,\n",
    "         M=(3,25,1))"
   ]
  },
  {
   "cell_type": "markdown",
   "metadata": {},
   "source": [
    "In summary,\n",
    "- Both methods find a reasonable approximation.\n",
    "- The Shooting Method requires to solve several IVP until it find the missing slope $\\alpha$, but it uses previous knowledge.\n",
    "- Finite Different requieres to solve a linear (or possible non-linear) system of equations but we requires few points to get a reasonable approximation.\n",
    "- Therefore, depending on the numerical problem that needs to be solve, one or the other would be better choice!"
   ]
  },
  {
   "cell_type": "markdown",
   "metadata": {},
   "source": [
    "<div id='acknowledgements' />\n",
    "\n",
    "# Acknowledgements\n",
    "[Back to TOC](#toc)\n",
    "\n",
    "-  _Material creado por profesor Claudio Torres_ (`ctorres@inf.utfsm.cl`) _y ayudantes: Alvaro Salinas y Martín \n",
    "Villanueva. DI UTFSM. Abril 2016._\n",
    "- **DISCLAIMER**: El presente notebook ha sido creado para el curso **ILI286 - Computación Científica 2**, del [Departamento de Informática](http://www.inf.utfsm.cl/), [Universidad Técnica Federico Santa María](http://www.utfsm.cl/). El material ha sido creado por Claudio Torres <ctorres@inf.utfsm.cl> y Sebastian Flores <sebastian.flores@usm.cl>, y es distribuido sin restricciones. En caso de encontrar un error, por favor no dude en contactarnos.\n",
    "- [Update 2015] Se ha actualizado los notebooks a Python 3 e includio el \"magic\" \"%matplotlib inline\" antes de cargar matplotlib para que los gráficos se generen en el notebook. \n",
    "- [Update 2016] (Álvaro) Modificaciones mayores al formato original. Agregado contexto: Introducción, Tabla de Contenidos, Explicaciones de cada método.\n",
    "- [Update 2019] (C. Torres) Small changes. Fixing issue with title of sections and identation. Adding 'interact' to the logistic equation! Adding interact to everything, work in progress. All done, Enjoy!\n",
    "- _Update July 2021 - v1.16 - C.Torres_ : Updating format and translating to English. Several updates in several functions! Major update!\n",
    "- _Update July 2021 - v1.17 - C.Torres_ : Minor update, removing commented code.\n",
    "- _Update July 2021 - v1.18 - C.Torres_ : Removing warning and changing the name of some variables.\n",
    "- _Update June 2022 - v1.19 - C.Torres_ : Fixing markdown.\n",
    "- _Update June 2022 - v1.20 - C.Torres_ : Fixing more markdown."
   ]
  },
  {
   "cell_type": "code",
   "execution_count": null,
   "metadata": {},
   "outputs": [],
   "source": []
  }
 ],
 "metadata": {
  "anaconda-cloud": {},
  "kernelspec": {
   "display_name": "Python 3.9.12 ('base')",
   "language": "python",
   "name": "python3"
  },
  "language_info": {
   "codemirror_mode": {
    "name": "ipython",
    "version": 3
   },
   "file_extension": ".py",
   "mimetype": "text/x-python",
   "name": "python",
   "nbconvert_exporter": "python",
   "pygments_lexer": "ipython3",
   "version": "3.9.12"
  },
  "vscode": {
   "interpreter": {
    "hash": "be29b946057c80ffef9af054603c17eefe4352d2c0caf18ac01a8c63bdfe4f5b"
   }
  }
 },
 "nbformat": 4,
 "nbformat_minor": 4
}
